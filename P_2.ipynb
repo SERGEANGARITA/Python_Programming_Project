{
 "cells": [
  {
   "cell_type": "code",
   "execution_count": 26,
   "source": [
    "def quiz (a,lives):\r\n",
    "    questions=[\"What is the capital of France?\",\"What is the last name of the French President?\", \"What is the name of the second largest city in France ?\"]\r\n",
    "    answers=[\"paris\",\"macron\",\"marseille\"]\r\n",
    "    print(\"Question {}\".format(a+1))\r\n",
    "    question=input(questions[a])\r\n",
    "    \r\n",
    "    while question.lower()!= answers[a]:\r\n",
    "        lives-=1\r\n",
    "        print(\"Sorry, you have {} chances left\".format(lives))\r\n",
    "        if lives<=0:\r\n",
    "            print(\"You lose\")\r\n",
    "            break\r\n",
    "        question=input(questions[a])\r\n",
    "    else:\r\n",
    "        print (\"Congrats\",question,\"is the good answer\") \r\n",
    "    return (lives)"
   ],
   "outputs": [],
   "metadata": {}
  },
  {
   "cell_type": "code",
   "execution_count": 28,
   "source": [
    "s=3\r\n",
    "for i in range(0,3):\r\n",
    "    s=quiz(i,s)\r\n",
    "    if s <=0:\r\n",
    "        break\r\n",
    "    elif i>1:\r\n",
    "        print(\"Well done, you have won\")\r\n",
    "\r\n"
   ],
   "outputs": [
    {
     "output_type": "stream",
     "name": "stdout",
     "text": [
      "Question 1\n",
      "Congrats paris is the good answer\n",
      "Question 2\n",
      "Congrats macron is the good answer\n",
      "Question 3\n",
      "Congrats marseille is the good answer\n",
      "Well done, you have won\n"
     ]
    }
   ],
   "metadata": {}
  },
  {
   "cell_type": "code",
   "execution_count": null,
   "source": [],
   "outputs": [],
   "metadata": {}
  }
 ],
 "metadata": {
  "orig_nbformat": 4,
  "language_info": {
   "name": "python",
   "version": "3.7.10",
   "mimetype": "text/x-python",
   "codemirror_mode": {
    "name": "ipython",
    "version": 3
   },
   "pygments_lexer": "ipython3",
   "nbconvert_exporter": "python",
   "file_extension": ".py"
  },
  "kernelspec": {
   "name": "python3",
   "display_name": "Python 3.7.10 64-bit ('base': conda)"
  },
  "interpreter": {
   "hash": "8cb6cc137b3197e0b7ce4f00b228307119c3d08b3d424b35089c104a94505f33"
  }
 },
 "nbformat": 4,
 "nbformat_minor": 2
}